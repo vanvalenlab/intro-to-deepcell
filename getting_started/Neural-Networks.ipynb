{
 "cells": [
  {
   "cell_type": "markdown",
   "metadata": {},
   "source": [
    "# Introduction to Deep Learning with Keras\n",
    "\n",
    "This notebook will introduce TensorFlow and Keras, and use them to build a neural network on the classic MNIST dataset."
   ]
  },
  {
   "cell_type": "markdown",
   "metadata": {},
   "source": [
    "First, set up the environment by installing the required packages and importing the necessary functions and classes."
   ]
  },
  {
   "cell_type": "code",
   "execution_count": null,
   "metadata": {},
   "outputs": [],
   "source": [
    "# pip install numpy tensorflow sklearn scipy\n",
    "# conda install numpy tensorflow sklearn scipy\n",
    "\n",
    "import numpy as np\n",
    "\n",
    "from sklearn.svm import LinearSVC\n",
    "from sklearn.metrics import accuracy_score, classification_report\n",
    "\n",
    "from tensorflow.keras import backend as K\n",
    "from tensorflow.keras.datasets import mnist\n",
    "from tensorflow.keras.models import Sequential, Model\n",
    "from tensorflow.keras.layers import Dense, Dropout, Flatten, Activation\n",
    "from tensorflow.keras.layers import Conv2D, MaxPooling2D, Input\n",
    "from tensorflow.keras.losses import categorical_crossentropy\n",
    "from tensorflow.keras.optimizers import SGD\n",
    "from tensorflow.keras.utils import to_categorical"
   ]
  },
  {
   "cell_type": "markdown",
   "metadata": {},
   "source": [
    "## Download and prepare the data\n",
    "\n",
    "For this introduction, the classic MNIST dataset of hand-drawn digits is used.  Download the data, reshape it if necessary, and normalize it."
   ]
  },
  {
   "cell_type": "code",
   "execution_count": null,
   "metadata": {},
   "outputs": [],
   "source": [
    "num_classes = 10  # mnist is the 10 digits\n",
    "\n",
    "# load the data, split between train and test sets\n",
    "(X_train, y_train), (X_test, y_test) = mnist.load_data()\n",
    "\n",
    "print('X_train shape:', X_train.shape)\n",
    "print('y_train shape:', y_train.shape)"
   ]
  },
  {
   "cell_type": "code",
   "execution_count": 3,
   "metadata": {},
   "outputs": [
    {
     "name": "stdout",
     "output_type": "stream",
     "text": [
      "X_train shape: (60000, 28, 28, 1)\n",
      "y_train shape: (60000,)\n",
      "First 10 values of y_train: [5 0 4 1 9 2 1 3 1 4]\n"
     ]
    }
   ],
   "source": [
    "# Reshape data if necessary\n",
    "\n",
    "# Add the channel dimension to the raw data.\n",
    "X_train = np.expand_dims(X_train, axis=-1)\n",
    "X_test = np.expand_dims(X_test, axis=-1)\n",
    "\n",
    "# normalize the data: set pixel values to be in range [0, 1]\n",
    "X_train = X_train.astype('float32')\n",
    "X_test = X_test.astype('float32')\n",
    "X_train /= 255.\n",
    "X_test /= 255.\n",
    "\n",
    "print('X_train shape:', X_train.shape)\n",
    "print('y_train shape:', y_train.shape)\n",
    "print('First 10 values of y_train:', y_train[:10])"
   ]
  },
  {
   "cell_type": "code",
   "execution_count": 5,
   "metadata": {},
   "outputs": [
    {
     "data": {
      "image/png": "[encoded data removed]",
      "text/plain": [
       "<Figure size 360x360 with 9 Axes>"
      ]
     },
     "metadata": {
      "needs_background": "light"
     },
     "output_type": "display_data"
    }
   ],
   "source": [
    "# View the data\n",
    "import matplotlib.pyplot as plt\n",
    "\n",
    "fig, axes = plt.subplots(ncols=3, nrows=3, figsize=(5, 5), sharex=True, sharey=True)\n",
    "ax = axes.ravel()\n",
    "\n",
    "for i in range(0, 9):\n",
    "    ax[i].imshow(X_train[i, ..., 0], cmap='gray')\n",
    "    \n",
    "fig.tight_layout()\n",
    "plt.show()"
   ]
  },
  {
   "cell_type": "markdown",
   "metadata": {},
   "source": [
    "## Linear Classifier\n",
    "\n",
    "First, try using a linear classifier with the MNIST data.  Below is an implmentation of a Support Vector Machine from sklearn."
   ]
  },
  {
   "cell_type": "code",
   "execution_count": 6,
   "metadata": {},
   "outputs": [
    {
     "name": "stdout",
     "output_type": "stream",
     "text": [
      "              precision    recall  f1-score   support\n",
      "\n",
      "           0       0.95      0.98      0.96       980\n",
      "           1       0.96      0.98      0.97      1135\n",
      "           2       0.93      0.88      0.91      1032\n",
      "           3       0.90      0.91      0.90      1010\n",
      "           4       0.92      0.93      0.92       982\n",
      "           5       0.89      0.86      0.87       892\n",
      "           6       0.93      0.95      0.94       958\n",
      "           7       0.92      0.92      0.92      1028\n",
      "           8       0.87      0.87      0.87       974\n",
      "           9       0.90      0.89      0.89      1009\n",
      "\n",
      "   micro avg       0.92      0.92      0.92     10000\n",
      "   macro avg       0.92      0.92      0.92     10000\n",
      "weighted avg       0.92      0.92      0.92     10000\n",
      "\n",
      "Accuracy Score: 0.9181\n"
     ]
    },
    {
     "name": "stderr",
     "output_type": "stream",
     "text": [
      "/usr/local/lib/python3.7/site-packages/sklearn/svm/base.py:931: ConvergenceWarning: Liblinear failed to converge, increase the number of iterations.\n",
      "  \"the number of iterations.\", ConvergenceWarning)\n"
     ]
    }
   ],
   "source": [
    "from sklearn.svm import LinearSVC\n",
    "from sklearn.metrics import accuracy_score, classification_report\n",
    "\n",
    "# Our current shape is (batches, rows, cols, channels) but SVC expects (batches, pixels)\n",
    "X_train_reshaped = np.reshape(X_train, (X_train.shape[0], X_train.shape[1]*X_train.shape[2]))\n",
    "X_test_reshaped = np.reshape(X_test, (X_test.shape[0], X_test.shape[1]*X_test.shape[2]))\n",
    "\n",
    "model = LinearSVC()\n",
    "\n",
    "model.fit(X_train_reshaped, y_train)\n",
    "\n",
    "predictions = model.predict(X_test_reshaped)\n",
    "print(classification_report(y_test, predictions))\n",
    "print('Accuracy Score:', accuracy_score(y_test, predictions))"
   ]
  },
  {
   "cell_type": "markdown",
   "metadata": {},
   "source": [
    "This accuracy is good, but can be improved.  We will now use tf.Keras to build a simple neural net and see how it performs."
   ]
  },
  {
   "cell_type": "markdown",
   "metadata": {},
   "source": [
    "## TensorFlow and Keras\n",
    "\n",
    "[TensorFlow](https://www.tensorflow.org/install/) is a Python library for fast numerical computing, where computation is expressed as a data flow graph. First the graph is defined, and when training occurs, data flows through the computation graph.\n",
    "\n",
    "[Keras](https://www.tensorflow.org/guide/keras) is a high-level API for building neural networks.  It sits on top of TensorFlow and allows developers to easily combine the basic building blocks of neural nets into *Layers*, *Objectives*, *Activations*, and *Optimizers*.\n",
    "\n",
    "*Note:* currently our lab is only using tensorflow version 1.X"
   ]
  },
  {
   "cell_type": "markdown",
   "metadata": {},
   "source": [
    "### Prepare the data for Keras\n",
    "\n",
    "First, convert the class vectors to binary class matrices or \"one-hot encode\" the data."
   ]
  },
  {
   "cell_type": "code",
   "execution_count": 7,
   "metadata": {},
   "outputs": [
    {
     "name": "stdout",
     "output_type": "stream",
     "text": [
      "y_train shape: (60000, 10)\n",
      "y_test shape: (10000, 10)\n",
      "[[0. 0. 0. 0. 0. 1. 0. 0. 0. 0.]\n",
      " [1. 0. 0. 0. 0. 0. 0. 0. 0. 0.]\n",
      " [0. 0. 0. 0. 1. 0. 0. 0. 0. 0.]\n",
      " [0. 1. 0. 0. 0. 0. 0. 0. 0. 0.]\n",
      " [0. 0. 0. 0. 0. 0. 0. 0. 0. 1.]\n",
      " [0. 0. 1. 0. 0. 0. 0. 0. 0. 0.]\n",
      " [0. 1. 0. 0. 0. 0. 0. 0. 0. 0.]\n",
      " [0. 0. 0. 1. 0. 0. 0. 0. 0. 0.]\n",
      " [0. 1. 0. 0. 0. 0. 0. 0. 0. 0.]\n",
      " [0. 0. 0. 0. 1. 0. 0. 0. 0. 0.]]\n"
     ]
    }
   ],
   "source": [
    "# Using the keras to_categorical function to one-hot encode the data\n",
    "\n",
    "y_train = to_categorical(y_train, num_classes)\n",
    "y_test = to_categorical(y_test, num_classes)\n",
    "\n",
    "print('y_train shape:', y_train.shape)\n",
    "print('y_test shape:', y_test.shape)\n",
    "print(y_train[:10])"
   ]
  },
  {
   "cell_type": "markdown",
   "metadata": {},
   "source": [
    "## Image Data Generators\n",
    "\n",
    "Keras also supports [`ImageDataGenerators`](https://keras.io/preprocessing/image/) which can augment data on the fly and spit out small batches of augmented data.  This can make models more robust as the training data set is greatly enlarged by the augmented data."
   ]
  },
  {
   "cell_type": "code",
   "execution_count": 8,
   "metadata": {},
   "outputs": [],
   "source": [
    "from tensorflow.keras.preprocessing.image import ImageDataGenerator\n",
    "\n",
    "# augmentation rules define the affine transform matrix to apply to the data\n",
    "datagen = ImageDataGenerator(\n",
    "    horizontal_flip=True,\n",
    "    vertical_flip=True,\n",
    "    rotation_range=30)"
   ]
  },
  {
   "cell_type": "code",
   "execution_count": 9,
   "metadata": {},
   "outputs": [
    {
     "data": {
      "image/png": "[encoded data removed]",
      "text/plain": [
       "<Figure size 360x360 with 9 Axes>"
      ]
     },
     "metadata": {
      "needs_background": "light"
     },
     "output_type": "display_data"
    }
   ],
   "source": [
    "# View the augmented data\n",
    "import matplotlib.pyplot as plt\n",
    "\n",
    "fig, axes = plt.subplots(ncols=3, nrows=3, figsize=(5, 5), sharex=True, sharey=True)\n",
    "ax = axes.ravel()\n",
    "\n",
    "for X_batch, y_batch in datagen.flow(X_train, y_train, batch_size=9):\n",
    "    for i in range(0, 9):\n",
    "        ax[i].imshow(X_batch[i, ..., 0], cmap='gray')\n",
    "\n",
    "    fig.tight_layout()\n",
    "    plt.show()\n",
    "    break"
   ]
  },
  {
   "cell_type": "markdown",
   "metadata": {},
   "source": [
    "## Neural Networks\n",
    "\n",
    "Let's compare our linear classifier results with simple neural networks using Keras."
   ]
  },
  {
   "cell_type": "markdown",
   "metadata": {},
   "source": [
    "### Dense Network\n",
    "\n",
    "First, a basic one-layer example. *(Using the functional model API)*"
   ]
  },
  {
   "cell_type": "code",
   "execution_count": 10,
   "metadata": {},
   "outputs": [
    {
     "name": "stderr",
     "output_type": "stream",
     "text": [
      "WARNING: Logging before flag parsing goes to stderr.\n",
      "W0619 14:19:48.450171 4444874176 deprecation.py:506] From /usr/local/lib/python3.7/site-packages/tensorflow/python/ops/init_ops.py:1251: calling VarianceScaling.__init__ (from tensorflow.python.ops.init_ops) with dtype is deprecated and will be removed in a future version.\n",
      "Instructions for updating:\n",
      "Call initializer instance with the dtype argument instead of passing it to the constructor\n"
     ]
    },
    {
     "name": "stdout",
     "output_type": "stream",
     "text": [
      "Train on 60000 samples, validate on 10000 samples\n",
      "Epoch 1/5\n",
      "60000/60000 [==============================] - 1s 10us/sample - loss: 0.5950 - acc: 0.8425 - val_loss: 0.3819 - val_acc: 0.8962\n",
      "Epoch 2/5\n",
      "60000/60000 [==============================] - 1s 9us/sample - loss: 0.3746 - acc: 0.8970 - val_loss: 0.3362 - val_acc: 0.9078\n",
      "Epoch 3/5\n",
      "60000/60000 [==============================] - 1s 9us/sample - loss: 0.3428 - acc: 0.9044 - val_loss: 0.3182 - val_acc: 0.9123\n",
      "Epoch 4/5\n",
      "60000/60000 [==============================] - 1s 11us/sample - loss: 0.3264 - acc: 0.9091 - val_loss: 0.3072 - val_acc: 0.9146\n",
      "Epoch 5/5\n",
      "60000/60000 [==============================] - 1s 9us/sample - loss: 0.3157 - acc: 0.9116 - val_loss: 0.2993 - val_acc: 0.9154\n"
     ]
    }
   ],
   "source": [
    "inputs = Input(shape=X_train.shape[1:])\n",
    "flat = Flatten()(inputs)\n",
    "dense = Dense(10, activation='softmax')(flat) # output is softmax(dot(X, W) + bias)\n",
    "\n",
    "model = Model(inputs=inputs, outputs=dense)\n",
    "\n",
    "model.compile(loss=categorical_crossentropy,\n",
    "              optimizer=SGD(momentum=0.9, nesterov=True),\n",
    "              metrics=['accuracy'])\n",
    "\n",
    "loss = model.fit(X_train, y_train,\n",
    "                 batch_size=128,\n",
    "                 epochs=5,\n",
    "                 verbose=1,\n",
    "                 validation_data=(X_test, y_test))"
   ]
  },
  {
   "cell_type": "markdown",
   "metadata": {},
   "source": [
    "## Convolutional Network\n",
    "\n",
    "5 epochs yield results comparable to the linear classifier, but the neural network can definitely be improved.  Below is a common pattern of Convolutions, Pooling, Dropout, and Dense layers.  [Read more about these layer types on Wikipedia](https://en.wikipedia.org/wiki/Convolutional_neural_network#Design) (*Using the sequential API*)"
   ]
  },
  {
   "cell_type": "code",
   "execution_count": 11,
   "metadata": {},
   "outputs": [
    {
     "name": "stdout",
     "output_type": "stream",
     "text": [
      "Epoch 1/3\n",
      "468/468 [==============================] - 62s 133ms/step - loss: 0.8943 - acc: 0.7024 - val_loss: 0.3360 - val_acc: 0.8949\n",
      "Epoch 2/3\n",
      "468/468 [==============================] - 56s 121ms/step - loss: 0.3962 - acc: 0.8766 - val_loss: 0.2106 - val_acc: 0.9326\n",
      "Epoch 3/3\n",
      "468/468 [==============================] - 56s 120ms/step - loss: 0.2945 - acc: 0.9059 - val_loss: 0.1927 - val_acc: 0.9378\n"
     ]
    }
   ],
   "source": [
    "# Create a model with the Keras Sequential API\n",
    "\n",
    "model = Sequential()\n",
    "# 32 3x3 filters (extracting 5x5-pixel subregions), with ReLU activation\n",
    "model.add(Conv2D(32, kernel_size=(3, 3),\n",
    "                 activation='relu',\n",
    "                 input_shape=X_train.shape[1:]))\n",
    "model.add(Conv2D(64, (3, 3), activation='relu'))\n",
    "model.add(MaxPooling2D(pool_size=(2, 2))) # Apply max filter to every 2x2 patch\n",
    "model.add(Dropout(0.25)) # Drop 25% of inputs to prevent overfitting\n",
    "model.add(Flatten())\n",
    "model.add(Dense(128, activation='relu'))\n",
    "model.add(Dense(num_classes))\n",
    "model.add(Activation('softmax'))\n",
    "\n",
    "model.compile(loss=categorical_crossentropy,\n",
    "              optimizer=SGD(momentum=0.9, nesterov=True),\n",
    "              metrics=['accuracy'])\n",
    "\n",
    "# Now using the ImageDataGenerator\n",
    "loss = model.fit_generator(datagen.flow(X_train, y_train, batch_size=128),\n",
    "                           steps_per_epoch=X_train.shape[0] // 128,\n",
    "                           epochs=3,\n",
    "                           verbose=1,\n",
    "                           validation_data=(X_test, y_test))"
   ]
  },
  {
   "cell_type": "code",
   "execution_count": null,
   "metadata": {},
   "outputs": [],
   "source": []
  }
 ],
 "metadata": {
  "kernelspec": {
   "display_name": "Python 3",
   "language": "python",
   "name": "python3"
  },
  "language_info": {
   "codemirror_mode": {
    "name": "ipython",
    "version": 3
   },
   "file_extension": ".py",
   "mimetype": "text/x-python",
   "name": "python",
   "nbconvert_exporter": "python",
   "pygments_lexer": "ipython3",
   "version": "3.7.3"
  }
 },
 "nbformat": 4,
 "nbformat_minor": 2
}

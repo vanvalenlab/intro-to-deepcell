{
 "cells": [
  {
   "cell_type": "markdown",
   "metadata": {},
   "source": [
    "# Unix basics"
   ]
  },
  {
   "cell_type": "markdown",
   "metadata": {},
   "source": [
    "### Dialing into a remote server\n",
    "\n",
    "Let's first get onto one of the Van Valen Lab's remote servers. If you don't know your username or the IP address of the server you're supposed to login to, one of the lab members can help you.\n",
    "\n",
    "Windows users, use PuTTY to login to your server.\n",
    "\n",
    "Linux and Mac users, put the following command in a terminal:\n",
    "```bash\n",
    "ssh -X -p 5078 [your_username]@[server_ip_address]\n",
    "```\n",
    "\n"
   ]
  },
  {
   "cell_type": "markdown",
   "metadata": {},
   "source": [
    "### Directory Navigation\n",
    "\n",
    "* List all files in current directory:  \n",
    "```bash\n",
    "ls\n",
    "```\n",
    "\n",
    "\n",
    "* Changing directory:  \n",
    "```bash\n",
    "cd [new_directory]\n",
    "```\n",
    "\n",
    "\n",
    "* Show name of current directory:  \n",
    "```bash\n",
    "pwd\n",
    "```"
   ]
  },
  {
   "cell_type": "markdown",
   "metadata": {},
   "source": [
    "### File Manipulation\n",
    "\n",
    "* Copy a file:  \n",
    "```bash\n",
    "cp [original_filename] [new_filename]\n",
    "```\n",
    "\n",
    "\n",
    "* Make a new directory:\n",
    "```bash\n",
    "mkdir [directoy_name]\n",
    "```\n",
    "\n",
    "\n",
    "* Delete (remove) a file:\n",
    "```bash\n",
    "rm [filename]\n",
    "```\n",
    "\n",
    "\n",
    "* Delete (remove) a directory and all of its contents:\n",
    "```bash\n",
    "rm -r [directory_name]\n",
    "```\n",
    "\n",
    "\n",
    "* Change premissions of a file:\n",
    "```bash\n",
    "chmod [permissions] [filename]\n",
    "```\n",
    "\n",
    "\n",
    "* Change ownership of a file:\n",
    "```bash\n",
    "chown [username] [filename]\n",
    "```"
   ]
  },
  {
   "cell_type": "markdown",
   "metadata": {},
   "source": [
    "### Utilities\n",
    "\n",
    "* To run a shell script:\n",
    "```bash\n",
    "./[scriptname.sh]\n",
    "```\n",
    "If this command throws an erorr, it's likely because you have permission issues. (Use `chmod` and/or `chown` to fix this.)\n",
    "\n",
    "\n",
    "* To run a Python script:\n",
    "```bash\n",
    "python ./[scriptname.py]\n",
    "```\n",
    "Again, permission issues are a common source of error.\n",
    "\n",
    "\n",
    "* To view all of the commands you've recently used that contain a certain string:\n",
    "```bash\n",
    "history | grep [string]\n",
    "```\n",
    "\n",
    "\n",
    "* To download a file from the internet, you hwave two options:\n",
    "```bash\n",
    "wget [URL]\n",
    "curl [URL]\n",
    "```\n",
    "\n",
    "\n",
    "* To mount a remote filesystem on your computer:\n",
    "```bash\n",
    "sshfs -p 5078 [your_username]@[server_ip_address]:[remote_directory] [local_mount_directory]\n",
    "```\n",
    "Errors? Again, permissions first."
   ]
  },
  {
   "cell_type": "markdown",
   "metadata": {},
   "source": [
    "### Special Characters\n",
    "\n",
    "* `.` (a single dot) always represents the current directory. E.g., \n",
    "```bash\n",
    "ls .\n",
    "```\n",
    "lists all files in the current directory.\n",
    "\n",
    "* `..` (a pair of dots) always represents the parent directory of the current directory. E.g.,\n",
    "```bash\n",
    "ls ..\n",
    "```\n",
    "lists all files in the directory above the current directory.\n"
   ]
  },
  {
   "cell_type": "markdown",
   "metadata": {},
   "source": [
    "### Special Command\n",
    "\n",
    "If you're having permissions issues, you can prepend a given ocmmand with `sudo` and those pesky issues will almost certainly disappear. E.g., the following command will remove the entire filesystem on the remote server:\n",
    "```bash\n",
    "sudo rm -r /\n",
    "```\n",
    "\n",
    "WARNING! You can mess stuff up with `sudo`. We won't give you `sudo` privileges until you face a problem where you need them. At that point, come to us and we can give your account sudo privileges."
   ]
  },
  {
   "cell_type": "markdown",
   "metadata": {},
   "source": [
    "# Git tutorial"
   ]
  },
  {
   "cell_type": "markdown",
   "metadata": {},
   "source": [
    "Git is a ubiquitous tool is software development. It allows multiple coders to work on the same project simultaneously without having to worry about whether other coders' changes are affecting their own code.\n",
    "\n",
    "Everyone works on their own BRANCH. They then modify some files on their branch and ADD those changes. After they have made all the changes they desire, they COMMIT those changes and PUSH their commits back to the central git repository. (In our case, the central repository is located remotely at https://www.github.com/vanvalenlab/deepcell-tf,but in principle it could be located anywhere, even on your own machine.)"
   ]
  },
  {
   "cell_type": "markdown",
   "metadata": {},
   "source": [
    "### Step 0: Logging into a lab server?\n",
    "\n",
    "You don't HAVE to log into one of the Van Valen Lab's state-of-the-art GPU-enabled servers to do this Git tutorial. But, if you care to, the command to do so is:  \n",
    "```bash\n",
    "ssh -X -p 5078 [your_username]@[machine_ip_address]\n",
    "```"
   ]
  },
  {
   "cell_type": "markdown",
   "metadata": {},
   "source": [
    "### Step 1: Cloning a repository\n",
    "\n",
    "Navigate to a directory on your hard drive where you would like to keep code projects from our lab.\n",
    "\n",
    "Then, make a copy of the central repository:  \n",
    "```bash\n",
    "git clone https://www.github.com/vanvalenlab/deepcell-tf\n",
    "```\n",
    "\n",
    "That command should automatically place a copy of the entire repository inside your current directory."
   ]
  },
  {
   "cell_type": "markdown",
   "metadata": {},
   "source": [
    "### Step 2: Creating your own branch\n",
    "\n",
    "Now that you have the current state of the Deepcell project on your computer, make a new branch so that you can make your own changes to the codebase without interfering with anyone else's version of the code.\n",
    "\n",
    "First, let's look at a list of all the pre-existing branches:  \n",
    "```bash\n",
    "cd ./deepcell-tf\n",
    "```  \n",
    "```bash\n",
    "git branch\n",
    "```\n",
    "\n",
    "Next, let's make our own branch and then view the list of branches again:  \n",
    "```bash\n",
    "git branch [fanciful_branch_name]\n",
    "```\n",
    "```bash\n",
    "git branch\n",
    "```\n",
    "\n",
    "Finally, let's start working on the new branch we just created and look at the list on last time:\n",
    "```bash\n",
    "git checkout [fanciful_branch_name]\n",
    "```\n",
    "```bash\n",
    "git branch\n",
    "```\n",
    "\n",
    "Now any changes you make to the code will only exist within your branch. Go wild!"
   ]
  },
  {
   "cell_type": "markdown",
   "metadata": {},
   "source": [
    "### Step 3: Adding, Committing, and Pushing\n",
    "\n",
    "Now that you've made all the changes you could ever want, let's go through the formality of committing those changes to the git repository.\n",
    "\n",
    "First, check git's status to view all the files which you've changed:  \n",
    "```bash\n",
    "git status\n",
    "```\n",
    "\n",
    "Next, for each file whose changes you want to keep, add that file to git's staging area:  \n",
    "```bash\n",
    "git add [filename]\n",
    "```  \n",
    "```bash\n",
    "git status\n",
    "```\n",
    "\n",
    "Now that all the changes you want to keep are in the staging area, let's commit them to your local repository, along with a pleasant note informing your future self of exactly what was running through your head:  \n",
    "```bash\n",
    "git commit -m [calm_informative_message]\n",
    "```  \n",
    "```bash\n",
    "git status\n",
    "```\n",
    "\n",
    "At this point, these changes only exist on your computer. No one else can see them, as they do not exist in the central repository. Eventually, though, we do want to inform everyone else on the team of our hard work. Let's do that now:  \n",
    "```bash\n",
    "git push\n",
    "```"
   ]
  },
  {
   "cell_type": "markdown",
   "metadata": {},
   "source": [
    "### Step 4: Staying updated\n",
    "\n",
    "If anyone has made changes to the master branch since you created your branch, you can get access to all of their neat changes by performing:  \n",
    "```bash\n",
    "git checkout master\n",
    "git pull\n",
    "```"
   ]
  },
  {
   "cell_type": "markdown",
   "metadata": {},
   "source": [
    "### Step 5: Merging\n",
    "\n",
    "That's most of the workflow.\n",
    "\n",
    "Eventually, once you've finished working on whatever it is you created your branch for (adding a feature, fixing a bug, etc.), you'll merge your branch into the master branch, so that it's now part of the main codebase. Then, whenever other people create their own branches in the future, their branch will include the changes you just made.\n",
    "\n",
    "We typically do that via the GitHub web interface by creating a pull request.\n",
    "\n",
    "In short, go to the github adress of this project's repository, (login, if needed,) choose your branch from the dropdown menu on the left, click \"Pull Request\", and fill out all the relevant fields. At some point, someone (probably Will) will sit down with you, go over your code, probably have a few rounds of back and forth with you, and then merge it into master.\n",
    "\n",
    "TADA! Done."
   ]
  },
  {
   "cell_type": "markdown",
   "metadata": {},
   "source": [
    "### Additional Resources\n",
    "\n",
    "There are many other git commands, which have been nicely summarized by Atlassian in [this PDF cheatsheet](https://www.atlassian.com/dam/jcr:8132028b-024f-4b6b-953e-e68fcce0c5fa/atlassian-git-cheatsheet.pdf)."
   ]
  },
  {
   "cell_type": "markdown",
   "metadata": {},
   "source": [
    "# Docker tutorial"
   ]
  },
  {
   "cell_type": "markdown",
   "metadata": {},
   "source": [
    "### Step 0: Logging into a lab server\n",
    "\n",
    "Remember earlier when you didn't HAVE to log into one of the Van Valen Lab's state-of-the-art GPU-enabled servers. Well, now you have to. The command to do so is:  \n",
    "```bash\n",
    "ssh -X -p 5078 [your_username]@[machine_ip_address]\n",
    "```"
   ]
  },
  {
   "cell_type": "markdown",
   "metadata": {},
   "source": [
    "### Step 1:  The Dockerfile\n",
    "\n",
    "A Dockerfile is a script that the `docker` program uses to create a Docker image. A Docker image is a snapshot of an operating system. (Think like someone copied your entire hard drive and saved it as a single file -- that's a Docker image.)\n",
    "\n",
    "Let's look at a simple example Dockerfile:\n",
    "\n",
    "```docker\n",
    "FROM tensorflow/tensorflow:1.11.0-gpu-py3\n",
    "\n",
    "# Copy the requirements.txt and install the dependencies\n",
    "# This pattern prevents the dependencies being re-installed\n",
    "# Due to an application code change.\n",
    "COPY requirements.txt requirements.txt\n",
    "RUN pip install -r requirements.txt\n",
    "\n",
    "# Copy the rest of the package code and its scripts into the WORKDIR\n",
    "COPY . .\n",
    "\n",
    "CMD bash\n",
    "```\n",
    "\n",
    "The Dockerfile starts with a line declaring the base image. This base image is downloaded and further altered by the remaining steps of the Dockerfile.\n",
    "\n",
    "```docker\n",
    "FROM tensorflow/tensorflow:1.11.0-gpu-py3\n",
    "```\n",
    "\n",
    "Next, we copy over `requirements.txt`, a file that declares and defines all the 3rd party dependencies used in the application, and installs them with pip:\n",
    "\n",
    "```docker\n",
    "COPY requirements.txt requirements.txt\n",
    "RUN pip install -r requirements.txt\n",
    "```\n",
    "\n",
    "Then, we copy over the rest of our application source code.  This is copied over separately from the dependencies to save build time when changing application code but not the dependencies:\n",
    "\n",
    "```docker\n",
    "# Copy the rest of the package code and its scripts into the WORKDIR\n",
    "COPY . .\n",
    "```\n",
    "\n",
    "Finally, we define the single process the Docker container will run:\n",
    "\n",
    "```docker\n",
    "CMD bash\n",
    "```"
   ]
  },
  {
   "cell_type": "markdown",
   "metadata": {},
   "source": [
    "### Step 2: Building a Docker image\n",
    "\n",
    "Now that we have a Dockerfile, a script describing a Docker image, we can build the Docker image itself, which will be nothing more than an entire file system, neatly stored as a single file.\n",
    "\n",
    "From within the `deepcell-tf` folder, build the Docker image by executing:  \n",
    "```bash\n",
    "docker build -t [your_username]/deepcell-tf:0.1 .\n",
    "```\n",
    "\n",
    "Which is roughly translated as:\n",
    "```bash\n",
    "docker build -t $DOCKER_REPOSITORY/$DOCKER_IMAGE:$DOCKER_TAG .\n",
    "```\n",
    "Explanations follow.\n",
    "\n",
    "`docker build` is the command to build a Docker image.\n",
    "\n",
    "`-t [your_username]/deepcell-tf:0.1` names your Docker image `[your_username]/deepcell-tf` and gives it a version number of `0.1`.\n",
    "\n",
    "The `.` at the end tells `docker build` where to look for a Docker file. `.` represents the current directory in  all Unix systems (Linux and Macs).\n",
    "\n",
    "So, you're telling `docker build` to use the Dockerfile in the current directory to build a Docker image, which it should name `[your_username]/deepcell-tf` and assign a version number of `0.1` to.\n",
    "\n",
    "\n",
    "To verify that everything went according to plan, execute\n",
    "```bash\n",
    "docker images\n",
    "```\n",
    "to view all Docker images. You should see one with your name and version number."
   ]
  },
  {
   "cell_type": "markdown",
   "metadata": {},
   "source": [
    "### Step 3: Launching a Docker container\n",
    "\n",
    "A Docker image is an entire operating system, including its entire filesystem, wrapped up in a single file. Now, we're going to breathe life into this dull file by running it inside a container, creating a completely isolated operating system running on your computer.\n",
    "\n",
    "To do this, execute:  \n",
    "```bash\n",
    "NV_GPU='[assigned_GPU_number]' nvidia-docker run -i -t -v [volume_location]:[mount_location] [dockerfile_location]\n",
    "```\n",
    "\n",
    "You should now be inside the Docker container. This is essentially a completely separate computer inside your computer. Anything that happens in magical Docker land stays in Docker land and doesn't affect your permanent filesystem."
   ]
  },
  {
   "cell_type": "markdown",
   "metadata": {},
   "source": [
    "### Additional Resources\n",
    "\n",
    "[Here is another useful cheatsheet](https://github.com/wsargent/docker-cheat-sheet) for the many Docker commands and how to use them"
   ]
  },
  {
   "cell_type": "code",
   "execution_count": null,
   "metadata": {},
   "outputs": [],
   "source": []
  }
 ],
 "metadata": {
  "kernelspec": {
   "display_name": "Python 3",
   "language": "python",
   "name": "python3"
  },
  "language_info": {
   "codemirror_mode": {
    "name": "ipython",
    "version": 3
   },
   "file_extension": ".py",
   "mimetype": "text/x-python",
   "name": "python",
   "nbconvert_exporter": "python",
   "pygments_lexer": "ipython3",
   "version": "3.7.3"
  }
 },
 "nbformat": 4,
 "nbformat_minor": 2
}
